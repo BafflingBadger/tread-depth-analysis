{
 "cells": [
  {
   "cell_type": "code",
   "execution_count": 1,
   "metadata": {},
   "outputs": [],
   "source": [
    "from tkinter.filedialog import askopenfilename                    # to prompt a file directory selection box\n",
    "import trimesh                                                    # useful functions to manipulate triangular meshes\n",
    "import numpy as np\n",
    "import math\n",
    "import matplotlib.pyplot as plt\n",
    "from matplotlib.lines import Line2D\n",
    "import statsmodels.api as sm"
   ]
  },
  {
   "cell_type": "code",
   "execution_count": 2,
   "metadata": {},
   "outputs": [],
   "source": [
    "#Removes the outlier vertices from the slice\n",
    "def filter_slice(vertices):\n",
    "    filtered_slice = []\n",
    "    for vertex in vertices:\n",
    "        if (vertex[0] >= -100 and vertex[0] <= 100 and vertex[1] < 50):   # Only retains vertices that are within X = -100mm to 100mm and within Y < 50mm\n",
    "            filtered_slice.append(vertex)\n",
    "    \n",
    "    return filtered_slice"
   ]
  },
  {
   "cell_type": "code",
   "execution_count": 3,
   "metadata": {},
   "outputs": [],
   "source": [
    "# Returns the numerical 1st derivative of the provided slice\n",
    "def differentiate_slice(vertices):\n",
    "    differentiated_slice = []\n",
    "    for vertex in vertices:\n",
    "        if (vertex[0] == vertices[0,0]):\n",
    "            prev_vertex = vertex\n",
    "            continue\n",
    "        else: \n",
    "            derivative = (vertex[1] - prev_vertex[1]) / (vertex[0] - prev_vertex[0])     # forward derivative\n",
    "            differentiated_slice.append([vertex[0], derivative])\n",
    "            prev_vertex = vertex\n",
    "            \n",
    "    return differentiated_slice"
   ]
  },
  {
   "cell_type": "code",
   "execution_count": 4,
   "metadata": {},
   "outputs": [],
   "source": [
    "# Calculates the tread depths given an array of vertices (a slice)\n",
    "def calculate_tread_depth(vertices):\n",
    "    diff_vertices = differentiate_slice(vertices)               # Differentiate the slice\n",
    "    diff_vertices = np.asarray(diff_vertices)                   # Convert to numpy array\n",
    "    np.set_printoptions(suppress=True)                          # Removes scientific notation (otherwise scientific notation by default)\n",
    "    second_diff_vertices = differentiate_slice(diff_vertices)   # Get the second derivative of the slice\n",
    "    second_diff_vertices = np.asarray(second_diff_vertices)     # Convert to numpy array\n",
    "    \n",
    "    # Initialize the three important tread locations\n",
    "    upper_tread_left = []      \n",
    "    upper_tread_right = []\n",
    "    lower_tread = []\n",
    "    \n",
    "    # Locates the upper_tread_left and lower_tread vertices for each tread valley\n",
    "    for x in range(1,len(diff_vertices)-1):\n",
    "        prev_deriv = diff_vertices[x-1,1]\n",
    "        curr_deriv = diff_vertices[x,1]\n",
    "        next_deriv = diff_vertices[x+1,1]\n",
    "        if (curr_deriv > 0 and prev_deriv < 0 and next_deriv > 0 and abs(next_deriv - prev_deriv) > 0.2):     # Criteria: if a vertex's derivative is positive, the next vertex's derivative is also positive, the previous vertex's derivative is negative, and the difference between the next and previous vertex's derivatives is greater than 0.2\n",
    "            upper_tread_left.append([vertices[x,0], vertices[x,1]])\n",
    "        elif (curr_deriv < 0 and prev_deriv > 0 and next_deriv < 0 and abs(next_deriv - prev_deriv) > 0.14):  # Criteria: if a vertex's derivative is negative, the next vertex's derivative is also negative, the previous vertex's derivative is positive, and the difference between the next and previous vertex's derivatives is great than 0.14\n",
    "            lower_tread.append([vertices[x,0], vertices[x,1]])\n",
    "    upper_tread_left = np.asarray(upper_tread_left)\n",
    "    lower_tread = np.asarray(lower_tread)\n",
    "    \n",
    "    # Locates the upper_tread_right vertex for each tread valley\n",
    "    # Criteria: starting from each lower tread valley vertex, check the next 20 vertices (roughly 20mm) to see which has the largest second derivative. If the second derivative is greater than 1.5, stop searching for greater values, that's good enough.\n",
    "    for vertex in lower_tread:\n",
    "        for x in range(len(second_diff_vertices)):\n",
    "            if (vertex[0] == second_diff_vertices[x,0]):\n",
    "                largest = 0\n",
    "                for h in range(20):\n",
    "                    if (second_diff_vertices.item(x+h,1) > largest):\n",
    "                        largest = second_diff_vertices[x+h,1]\n",
    "                        index_largest = x+h\n",
    "                        if (largest > 1.5):\n",
    "                            break\n",
    "        upper_tread_right.append([vertices[index_largest+4,0], vertices[index_largest+4,1]])\n",
    "    upper_tread_right = np.asarray(upper_tread_right)\n",
    "    \n",
    " \n",
    "    \n",
    "    # Calculates the overall tread depths for each valley\n",
    "    tread_depths = []\n",
    "    for x in range(len(upper_tread_left)):\n",
    "        depth = abs((upper_tread_left[x,1] + upper_tread_right[x,1]) / 2 - lower_tread[x,1])\n",
    "        tread_depths.append(depth)\n",
    "    tread_depths = np.asarray(tread_depths)\n",
    "        \n",
    "    # Return all tread depth information    \n",
    "    return upper_tread_left, upper_tread_right, lower_tread, tread_depths"
   ]
  },
  {
   "cell_type": "code",
   "execution_count": 5,
   "metadata": {},
   "outputs": [],
   "source": [
    "# Displays the tread depth information\n",
    "def display_tread_depth(tread_depths):\n",
    "    print(\"There are \", len(tread_depths), \" tread valleys.\\n\")\n",
    "    for x in range(len(tread_depths)):\n",
    "        print(\"Tread valley #\", x+1, \": \", \"{:.2f}\".format(tread_depths[x]), \" mm\")\n",
    "        \n",
    "    print('\\n')\n",
    "    if(np.any(tread_depths < 1.59)):\n",
    "        print('Your tires are legally bald and need to be replaced.\\n')\n",
    "    elif(np.any(tread_depths < 3.18)):\n",
    "        print('Seriously consider replacing your tires as soon as possible. \\nFor winter use, your tires are legally bald and need to be replaced.\\n')\n",
    "    elif(np.any(tread_depths < 3.97)):\n",
    "        print('If wet roads are a concern, consider replacing your tires. \\nFor winter use, your tires are nearing the legal minimum amount of tread.\\n')\n",
    "    elif(np.any(tread_depths < 4.76)):\n",
    "        print('Your tire’s tread depth is sufficient for 3-seasons but nearing minimum for a winter tire.\\n')\n",
    "    else:\n",
    "        print('Your tire tread is sufficient.\\n')\n",
    "        "
   ]
  },
  {
   "cell_type": "code",
   "execution_count": 6,
   "metadata": {},
   "outputs": [
    {
     "data": {
      "image/png": "[encoded data removed]",
      "text/plain": [
       "<Figure size 432x288 with 1 Axes>"
      ]
     },
     "metadata": {
      "needs_background": "light"
     },
     "output_type": "display_data"
    },
    {
     "name": "stdout",
     "output_type": "stream",
     "text": [
      "There are  4  tread valleys.\n",
      "\n",
      "Tread valley # 1 :  1.85  mm\n",
      "Tread valley # 2 :  5.67  mm\n",
      "Tread valley # 3 :  5.98  mm\n",
      "Tread valley # 4 :  5.68  mm\n",
      "\n",
      "\n",
      "Seriously consider replacing your tires as soon as possible. \n",
      "For winter use, your tires are legally bald and need to be replaced.\n",
      "\n"
     ]
    }
   ],
   "source": [
    "# Main Function\n",
    "\n",
    "filename = askopenfilename()                   # Prompts user to select STL mesh file\n",
    "mesh = trimesh.load(filename)                  # Loads the STL mesh file\n",
    "\n",
    "slice = mesh.section(plane_origin=mesh.centroid, plane_normal=[0,0,1])    # Gets a 3D slice from the mesh\n",
    "slice_2D, to_3D = slice.to_planar()                                       # Converts to 2D slice\n",
    "\n",
    "vertices = slice_2D.vertices                   # Extracts the vertices/points from the slice\n",
    "vertices = vertices[vertices[:,0].argsort()]   # Sorts them in ascending x-direction (otherwise completely random order by default)\n",
    "vertices = filter_slice(vertices)              # Gets rid of outliers\n",
    "vertices = np.asarray(vertices)                # Converts to numpy array for easy visulization/manipulation\n",
    "\n",
    "#lowess = sm.nonparametric.lowess\n",
    "#vertices = lowess(vertices[:,1], vertices[:,0], 0)\n",
    "#np.set_printoptions(suppress=True)             # Removes scientific notation (otherwise scientific notation by default)\n",
    "\n",
    "upper_l, upper_r, lower, tread_depths = calculate_tread_depth(vertices)   # Calculates and returns the tread depth values\n",
    "\n",
    "plt.figure()                                   # Plot the slice/vertices, including the overlaying key measurement vertices\n",
    "plt.plot(vertices[:,0], vertices[:,1])\n",
    "plt.scatter(upper_l[:,0], upper_l[:,1], facecolor='r')\n",
    "plt.scatter(upper_r[:,0], upper_r[:,1], facecolor='r')\n",
    "plt.scatter(lower[:,0], lower[:,1], facecolor = 'r')\n",
    "label = Line2D(range(1), range(1), color=\"white\", marker='o', markerfacecolor=\"red\", label='Key Measurement Points')\n",
    "plt.legend(handles=[label])\n",
    "plt.xlabel('Width of Tire (mm)')\n",
    "plt.ylabel('Depth (mm)')\n",
    "plt.title('2D Cross-Sectional Slice of Tire')\n",
    "plt.show()\n",
    "\n",
    "display_tread_depth(tread_depths)               # Display the tread depth information"
   ]
  },
  {
   "cell_type": "code",
   "execution_count": null,
   "metadata": {},
   "outputs": [],
   "source": []
  }
 ],
 "metadata": {
  "kernelspec": {
   "display_name": "Python 3",
   "language": "python",
   "name": "python3"
  },
  "language_info": {
   "codemirror_mode": {
    "name": "ipython",
    "version": 3
   },
   "file_extension": ".py",
   "mimetype": "text/x-python",
   "name": "python",
   "nbconvert_exporter": "python",
   "pygments_lexer": "ipython3",
   "version": "3.8.3"
  }
 },
 "nbformat": 4,
 "nbformat_minor": 4
}
